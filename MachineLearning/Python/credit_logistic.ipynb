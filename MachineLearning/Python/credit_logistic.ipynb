{
 "cells": [
  {
   "cell_type": "code",
   "execution_count": 1,
   "metadata": {},
   "outputs": [],
   "source": [
    "import pandas as pd\n",
    "import numpy as np\n",
    "import seaborn as sns \n",
    "import matplotlib.pyplot as plt\n"
   ]
  },
  {
   "cell_type": "code",
   "execution_count": 63,
   "metadata": {},
   "outputs": [],
   "source": [
    "credit = pd.read_csv(\"E:\\\\pooja\\\\DS\\\\ExcelR\\\\R\\\\Assignments\\\\creditcard.csv\", index_col=0)"
   ]
  },
  {
   "cell_type": "code",
   "execution_count": 47,
   "metadata": {},
   "outputs": [
    {
     "data": {
      "text/html": [
       "<div>\n",
       "<style scoped>\n",
       "    .dataframe tbody tr th:only-of-type {\n",
       "        vertical-align: middle;\n",
       "    }\n",
       "\n",
       "    .dataframe tbody tr th {\n",
       "        vertical-align: top;\n",
       "    }\n",
       "\n",
       "    .dataframe thead th {\n",
       "        text-align: right;\n",
       "    }\n",
       "</style>\n",
       "<table border=\"1\" class=\"dataframe\">\n",
       "  <thead>\n",
       "    <tr style=\"text-align: right;\">\n",
       "      <th></th>\n",
       "      <th>card</th>\n",
       "      <th>reports</th>\n",
       "      <th>age</th>\n",
       "      <th>income</th>\n",
       "      <th>share</th>\n",
       "      <th>expenditure</th>\n",
       "      <th>owner</th>\n",
       "      <th>selfemp</th>\n",
       "      <th>dependents</th>\n",
       "      <th>months</th>\n",
       "      <th>majorcards</th>\n",
       "      <th>active</th>\n",
       "    </tr>\n",
       "  </thead>\n",
       "  <tbody>\n",
       "    <tr>\n",
       "      <td>1</td>\n",
       "      <td>yes</td>\n",
       "      <td>0</td>\n",
       "      <td>37.66667</td>\n",
       "      <td>4.5200</td>\n",
       "      <td>0.033270</td>\n",
       "      <td>124.983300</td>\n",
       "      <td>yes</td>\n",
       "      <td>no</td>\n",
       "      <td>3</td>\n",
       "      <td>54</td>\n",
       "      <td>1</td>\n",
       "      <td>12</td>\n",
       "    </tr>\n",
       "    <tr>\n",
       "      <td>2</td>\n",
       "      <td>yes</td>\n",
       "      <td>0</td>\n",
       "      <td>33.25000</td>\n",
       "      <td>2.4200</td>\n",
       "      <td>0.005217</td>\n",
       "      <td>9.854167</td>\n",
       "      <td>no</td>\n",
       "      <td>no</td>\n",
       "      <td>3</td>\n",
       "      <td>34</td>\n",
       "      <td>1</td>\n",
       "      <td>13</td>\n",
       "    </tr>\n",
       "    <tr>\n",
       "      <td>3</td>\n",
       "      <td>yes</td>\n",
       "      <td>0</td>\n",
       "      <td>33.66667</td>\n",
       "      <td>4.5000</td>\n",
       "      <td>0.004156</td>\n",
       "      <td>15.000000</td>\n",
       "      <td>yes</td>\n",
       "      <td>no</td>\n",
       "      <td>4</td>\n",
       "      <td>58</td>\n",
       "      <td>1</td>\n",
       "      <td>5</td>\n",
       "    </tr>\n",
       "    <tr>\n",
       "      <td>4</td>\n",
       "      <td>yes</td>\n",
       "      <td>0</td>\n",
       "      <td>30.50000</td>\n",
       "      <td>2.5400</td>\n",
       "      <td>0.065214</td>\n",
       "      <td>137.869200</td>\n",
       "      <td>no</td>\n",
       "      <td>no</td>\n",
       "      <td>0</td>\n",
       "      <td>25</td>\n",
       "      <td>1</td>\n",
       "      <td>7</td>\n",
       "    </tr>\n",
       "    <tr>\n",
       "      <td>5</td>\n",
       "      <td>yes</td>\n",
       "      <td>0</td>\n",
       "      <td>32.16667</td>\n",
       "      <td>9.7867</td>\n",
       "      <td>0.067051</td>\n",
       "      <td>546.503300</td>\n",
       "      <td>yes</td>\n",
       "      <td>no</td>\n",
       "      <td>2</td>\n",
       "      <td>64</td>\n",
       "      <td>1</td>\n",
       "      <td>5</td>\n",
       "    </tr>\n",
       "  </tbody>\n",
       "</table>\n",
       "</div>"
      ],
      "text/plain": [
       "  card  reports       age  income     share  expenditure owner selfemp  \\\n",
       "1  yes        0  37.66667  4.5200  0.033270   124.983300   yes      no   \n",
       "2  yes        0  33.25000  2.4200  0.005217     9.854167    no      no   \n",
       "3  yes        0  33.66667  4.5000  0.004156    15.000000   yes      no   \n",
       "4  yes        0  30.50000  2.5400  0.065214   137.869200    no      no   \n",
       "5  yes        0  32.16667  9.7867  0.067051   546.503300   yes      no   \n",
       "\n",
       "   dependents  months  majorcards  active  \n",
       "1           3      54           1      12  \n",
       "2           3      34           1      13  \n",
       "3           4      58           1       5  \n",
       "4           0      25           1       7  \n",
       "5           2      64           1       5  "
      ]
     },
     "execution_count": 47,
     "metadata": {},
     "output_type": "execute_result"
    }
   ],
   "source": [
    "credit.head()"
   ]
  },
  {
   "cell_type": "code",
   "execution_count": 19,
   "metadata": {},
   "outputs": [
    {
     "data": {
      "text/plain": [
       "<matplotlib.axes._subplots.AxesSubplot at 0x1b0d566da88>"
      ]
     },
     "execution_count": 19,
     "metadata": {},
     "output_type": "execute_result"
    },
    {
     "data": {
      "image/png": "[encoded data removed]",
      "text/plain": [
       "<Figure size 432x288 with 1 Axes>"
      ]
     },
     "metadata": {
      "needs_background": "light"
     },
     "output_type": "display_data"
    }
   ],
   "source": [
    "sns.heatmap(credit.isnull(),cbar=False, yticklabels=False, cmap=\"cool\")"
   ]
  },
  {
   "cell_type": "code",
   "execution_count": 21,
   "metadata": {},
   "outputs": [
    {
     "data": {
      "text/plain": [
       "<matplotlib.axes._subplots.AxesSubplot at 0x1b0d628d348>"
      ]
     },
     "execution_count": 21,
     "metadata": {},
     "output_type": "execute_result"
    },
    {
     "data": {
      "image/png": "[encoded data removed]",
      "text/plain": [
       "<Figure size 432x288 with 1 Axes>"
      ]
     },
     "metadata": {},
     "output_type": "display_data"
    }
   ],
   "source": [
    "sns.set_style(\"whitegrid\")\n",
    "sns.countplot(x=\"card\", data=credit)"
   ]
  },
  {
   "cell_type": "code",
   "execution_count": 22,
   "metadata": {},
   "outputs": [
    {
     "data": {
      "text/plain": [
       "<matplotlib.axes._subplots.AxesSubplot at 0x1b0d6295808>"
      ]
     },
     "execution_count": 22,
     "metadata": {},
     "output_type": "execute_result"
    },
    {
     "data": {
      "image/png": "[encoded data removed]",
      "text/plain": [
       "<Figure size 432x288 with 1 Axes>"
      ]
     },
     "metadata": {},
     "output_type": "display_data"
    }
   ],
   "source": [
    "sns.countplot(x=\"selfemp\", data=credit, hue=\"card\")"
   ]
  },
  {
   "cell_type": "code",
   "execution_count": 24,
   "metadata": {},
   "outputs": [
    {
     "data": {
      "text/plain": [
       "<matplotlib.axes._subplots.AxesSubplot at 0x1b0d602ea08>"
      ]
     },
     "execution_count": 24,
     "metadata": {},
     "output_type": "execute_result"
    },
    {
     "data": {
      "image/png": "[encoded data removed]",
      "text/plain": [
       "<Figure size 432x288 with 1 Axes>"
      ]
     },
     "metadata": {},
     "output_type": "display_data"
    }
   ],
   "source": [
    "sns.distplot(credit['income'],kde=False, bins=30, color=\"red\")"
   ]
  },
  {
   "cell_type": "code",
   "execution_count": 57,
   "metadata": {},
   "outputs": [],
   "source": [
    "owner = pd.get_dummies(credit['owner'], drop_first= True)\n",
    "selfemp = pd.get_dummies(credit['selfemp'], drop_first=True)"
   ]
  },
  {
   "cell_type": "code",
   "execution_count": 58,
   "metadata": {},
   "outputs": [],
   "source": [
    "credit.drop(['owner','selfemp'], axis=1, inplace=True)"
   ]
  },
  {
   "cell_type": "code",
   "execution_count": 60,
   "metadata": {},
   "outputs": [],
   "source": [
    "credit = pd.concat([owner,selfemp], axis=1)"
   ]
  },
  {
   "cell_type": "code",
   "execution_count": 65,
   "metadata": {},
   "outputs": [],
   "source": [
    "def card(cols):\n",
    "    card = cols[0]\n",
    "    \n",
    "    if card == \"yes\":\n",
    "        return 1\n",
    "    else:\n",
    "        return 0"
   ]
  },
  {
   "cell_type": "code",
   "execution_count": 66,
   "metadata": {},
   "outputs": [],
   "source": [
    "def owner(cols):\n",
    "    owner = cols[0]\n",
    "    \n",
    "    if owner == \"yes\":\n",
    "        return 1\n",
    "    else:\n",
    "        return 0"
   ]
  },
  {
   "cell_type": "code",
   "execution_count": 67,
   "metadata": {},
   "outputs": [],
   "source": [
    "def selfemp(cols):\n",
    "    selfemp = cols[0]\n",
    "    \n",
    "    if selfemp == \"yes\":\n",
    "        return 1\n",
    "    else:\n",
    "        return 0"
   ]
  },
  {
   "cell_type": "code",
   "execution_count": 69,
   "metadata": {},
   "outputs": [],
   "source": [
    "credit['card'] = credit[['card']].apply(card, axis=1)\n",
    "credit['owner'] = credit[['owner']].apply(owner, axis=1)\n",
    "credit['selfemp'] = credit[['selfemp']].apply(selfemp, axis=1)"
   ]
  },
  {
   "cell_type": "code",
   "execution_count": 70,
   "metadata": {},
   "outputs": [
    {
     "data": {
      "text/html": [
       "<div>\n",
       "<style scoped>\n",
       "    .dataframe tbody tr th:only-of-type {\n",
       "        vertical-align: middle;\n",
       "    }\n",
       "\n",
       "    .dataframe tbody tr th {\n",
       "        vertical-align: top;\n",
       "    }\n",
       "\n",
       "    .dataframe thead th {\n",
       "        text-align: right;\n",
       "    }\n",
       "</style>\n",
       "<table border=\"1\" class=\"dataframe\">\n",
       "  <thead>\n",
       "    <tr style=\"text-align: right;\">\n",
       "      <th></th>\n",
       "      <th>card</th>\n",
       "      <th>reports</th>\n",
       "      <th>age</th>\n",
       "      <th>income</th>\n",
       "      <th>share</th>\n",
       "      <th>expenditure</th>\n",
       "      <th>owner</th>\n",
       "      <th>selfemp</th>\n",
       "      <th>dependents</th>\n",
       "      <th>months</th>\n",
       "      <th>majorcards</th>\n",
       "      <th>active</th>\n",
       "    </tr>\n",
       "  </thead>\n",
       "  <tbody>\n",
       "    <tr>\n",
       "      <td>1</td>\n",
       "      <td>1</td>\n",
       "      <td>0</td>\n",
       "      <td>37.66667</td>\n",
       "      <td>4.5200</td>\n",
       "      <td>0.033270</td>\n",
       "      <td>124.983300</td>\n",
       "      <td>1</td>\n",
       "      <td>0</td>\n",
       "      <td>3</td>\n",
       "      <td>54</td>\n",
       "      <td>1</td>\n",
       "      <td>12</td>\n",
       "    </tr>\n",
       "    <tr>\n",
       "      <td>2</td>\n",
       "      <td>1</td>\n",
       "      <td>0</td>\n",
       "      <td>33.25000</td>\n",
       "      <td>2.4200</td>\n",
       "      <td>0.005217</td>\n",
       "      <td>9.854167</td>\n",
       "      <td>0</td>\n",
       "      <td>0</td>\n",
       "      <td>3</td>\n",
       "      <td>34</td>\n",
       "      <td>1</td>\n",
       "      <td>13</td>\n",
       "    </tr>\n",
       "    <tr>\n",
       "      <td>3</td>\n",
       "      <td>1</td>\n",
       "      <td>0</td>\n",
       "      <td>33.66667</td>\n",
       "      <td>4.5000</td>\n",
       "      <td>0.004156</td>\n",
       "      <td>15.000000</td>\n",
       "      <td>1</td>\n",
       "      <td>0</td>\n",
       "      <td>4</td>\n",
       "      <td>58</td>\n",
       "      <td>1</td>\n",
       "      <td>5</td>\n",
       "    </tr>\n",
       "    <tr>\n",
       "      <td>4</td>\n",
       "      <td>1</td>\n",
       "      <td>0</td>\n",
       "      <td>30.50000</td>\n",
       "      <td>2.5400</td>\n",
       "      <td>0.065214</td>\n",
       "      <td>137.869200</td>\n",
       "      <td>0</td>\n",
       "      <td>0</td>\n",
       "      <td>0</td>\n",
       "      <td>25</td>\n",
       "      <td>1</td>\n",
       "      <td>7</td>\n",
       "    </tr>\n",
       "    <tr>\n",
       "      <td>5</td>\n",
       "      <td>1</td>\n",
       "      <td>0</td>\n",
       "      <td>32.16667</td>\n",
       "      <td>9.7867</td>\n",
       "      <td>0.067051</td>\n",
       "      <td>546.503300</td>\n",
       "      <td>1</td>\n",
       "      <td>0</td>\n",
       "      <td>2</td>\n",
       "      <td>64</td>\n",
       "      <td>1</td>\n",
       "      <td>5</td>\n",
       "    </tr>\n",
       "  </tbody>\n",
       "</table>\n",
       "</div>"
      ],
      "text/plain": [
       "   card  reports       age  income     share  expenditure  owner  selfemp  \\\n",
       "1     1        0  37.66667  4.5200  0.033270   124.983300      1        0   \n",
       "2     1        0  33.25000  2.4200  0.005217     9.854167      0        0   \n",
       "3     1        0  33.66667  4.5000  0.004156    15.000000      1        0   \n",
       "4     1        0  30.50000  2.5400  0.065214   137.869200      0        0   \n",
       "5     1        0  32.16667  9.7867  0.067051   546.503300      1        0   \n",
       "\n",
       "   dependents  months  majorcards  active  \n",
       "1           3      54           1      12  \n",
       "2           3      34           1      13  \n",
       "3           4      58           1       5  \n",
       "4           0      25           1       7  \n",
       "5           2      64           1       5  "
      ]
     },
     "execution_count": 70,
     "metadata": {},
     "output_type": "execute_result"
    }
   ],
   "source": [
    "credit.head()"
   ]
  },
  {
   "cell_type": "code",
   "execution_count": 71,
   "metadata": {},
   "outputs": [
    {
     "data": {
      "text/plain": [
       "array([1, 0], dtype=int64)"
      ]
     },
     "execution_count": 71,
     "metadata": {},
     "output_type": "execute_result"
    }
   ],
   "source": [
    "credit['owner'].unique()"
   ]
  },
  {
   "cell_type": "code",
   "execution_count": 73,
   "metadata": {},
   "outputs": [],
   "source": [
    "from sklearn.preprocessing import StandardScaler\n"
   ]
  },
  {
   "cell_type": "code",
   "execution_count": 74,
   "metadata": {},
   "outputs": [],
   "source": [
    "scale = StandardScaler()"
   ]
  },
  {
   "cell_type": "code",
   "execution_count": 82,
   "metadata": {},
   "outputs": [
    {
     "data": {
      "text/html": [
       "<div>\n",
       "<style scoped>\n",
       "    .dataframe tbody tr th:only-of-type {\n",
       "        vertical-align: middle;\n",
       "    }\n",
       "\n",
       "    .dataframe tbody tr th {\n",
       "        vertical-align: top;\n",
       "    }\n",
       "\n",
       "    .dataframe thead th {\n",
       "        text-align: right;\n",
       "    }\n",
       "</style>\n",
       "<table border=\"1\" class=\"dataframe\">\n",
       "  <thead>\n",
       "    <tr style=\"text-align: right;\">\n",
       "      <th></th>\n",
       "      <th>reports</th>\n",
       "      <th>age</th>\n",
       "      <th>income</th>\n",
       "      <th>share</th>\n",
       "      <th>expenditure</th>\n",
       "      <th>owner</th>\n",
       "      <th>selfemp</th>\n",
       "      <th>dependents</th>\n",
       "      <th>months</th>\n",
       "      <th>majorcards</th>\n",
       "      <th>active</th>\n",
       "    </tr>\n",
       "  </thead>\n",
       "  <tbody>\n",
       "    <tr>\n",
       "      <td>1</td>\n",
       "      <td>0</td>\n",
       "      <td>37.66667</td>\n",
       "      <td>4.5200</td>\n",
       "      <td>0.033270</td>\n",
       "      <td>124.983300</td>\n",
       "      <td>1</td>\n",
       "      <td>0</td>\n",
       "      <td>3</td>\n",
       "      <td>54</td>\n",
       "      <td>1</td>\n",
       "      <td>12</td>\n",
       "    </tr>\n",
       "    <tr>\n",
       "      <td>2</td>\n",
       "      <td>0</td>\n",
       "      <td>33.25000</td>\n",
       "      <td>2.4200</td>\n",
       "      <td>0.005217</td>\n",
       "      <td>9.854167</td>\n",
       "      <td>0</td>\n",
       "      <td>0</td>\n",
       "      <td>3</td>\n",
       "      <td>34</td>\n",
       "      <td>1</td>\n",
       "      <td>13</td>\n",
       "    </tr>\n",
       "    <tr>\n",
       "      <td>3</td>\n",
       "      <td>0</td>\n",
       "      <td>33.66667</td>\n",
       "      <td>4.5000</td>\n",
       "      <td>0.004156</td>\n",
       "      <td>15.000000</td>\n",
       "      <td>1</td>\n",
       "      <td>0</td>\n",
       "      <td>4</td>\n",
       "      <td>58</td>\n",
       "      <td>1</td>\n",
       "      <td>5</td>\n",
       "    </tr>\n",
       "    <tr>\n",
       "      <td>4</td>\n",
       "      <td>0</td>\n",
       "      <td>30.50000</td>\n",
       "      <td>2.5400</td>\n",
       "      <td>0.065214</td>\n",
       "      <td>137.869200</td>\n",
       "      <td>0</td>\n",
       "      <td>0</td>\n",
       "      <td>0</td>\n",
       "      <td>25</td>\n",
       "      <td>1</td>\n",
       "      <td>7</td>\n",
       "    </tr>\n",
       "    <tr>\n",
       "      <td>5</td>\n",
       "      <td>0</td>\n",
       "      <td>32.16667</td>\n",
       "      <td>9.7867</td>\n",
       "      <td>0.067051</td>\n",
       "      <td>546.503300</td>\n",
       "      <td>1</td>\n",
       "      <td>0</td>\n",
       "      <td>2</td>\n",
       "      <td>64</td>\n",
       "      <td>1</td>\n",
       "      <td>5</td>\n",
       "    </tr>\n",
       "    <tr>\n",
       "      <td>...</td>\n",
       "      <td>...</td>\n",
       "      <td>...</td>\n",
       "      <td>...</td>\n",
       "      <td>...</td>\n",
       "      <td>...</td>\n",
       "      <td>...</td>\n",
       "      <td>...</td>\n",
       "      <td>...</td>\n",
       "      <td>...</td>\n",
       "      <td>...</td>\n",
       "      <td>...</td>\n",
       "    </tr>\n",
       "    <tr>\n",
       "      <td>1315</td>\n",
       "      <td>0</td>\n",
       "      <td>33.58333</td>\n",
       "      <td>4.5660</td>\n",
       "      <td>0.002146</td>\n",
       "      <td>7.333333</td>\n",
       "      <td>1</td>\n",
       "      <td>0</td>\n",
       "      <td>0</td>\n",
       "      <td>94</td>\n",
       "      <td>1</td>\n",
       "      <td>19</td>\n",
       "    </tr>\n",
       "    <tr>\n",
       "      <td>1316</td>\n",
       "      <td>5</td>\n",
       "      <td>23.91667</td>\n",
       "      <td>3.1920</td>\n",
       "      <td>0.000376</td>\n",
       "      <td>0.000000</td>\n",
       "      <td>0</td>\n",
       "      <td>0</td>\n",
       "      <td>3</td>\n",
       "      <td>12</td>\n",
       "      <td>1</td>\n",
       "      <td>5</td>\n",
       "    </tr>\n",
       "    <tr>\n",
       "      <td>1317</td>\n",
       "      <td>0</td>\n",
       "      <td>40.58333</td>\n",
       "      <td>4.6000</td>\n",
       "      <td>0.026513</td>\n",
       "      <td>101.298300</td>\n",
       "      <td>1</td>\n",
       "      <td>0</td>\n",
       "      <td>2</td>\n",
       "      <td>1</td>\n",
       "      <td>1</td>\n",
       "      <td>2</td>\n",
       "    </tr>\n",
       "    <tr>\n",
       "      <td>1318</td>\n",
       "      <td>0</td>\n",
       "      <td>32.83333</td>\n",
       "      <td>3.7000</td>\n",
       "      <td>0.008999</td>\n",
       "      <td>26.996670</td>\n",
       "      <td>0</td>\n",
       "      <td>1</td>\n",
       "      <td>0</td>\n",
       "      <td>60</td>\n",
       "      <td>1</td>\n",
       "      <td>7</td>\n",
       "    </tr>\n",
       "    <tr>\n",
       "      <td>1319</td>\n",
       "      <td>0</td>\n",
       "      <td>48.25000</td>\n",
       "      <td>3.7000</td>\n",
       "      <td>0.111619</td>\n",
       "      <td>344.157500</td>\n",
       "      <td>1</td>\n",
       "      <td>0</td>\n",
       "      <td>2</td>\n",
       "      <td>2</td>\n",
       "      <td>1</td>\n",
       "      <td>0</td>\n",
       "    </tr>\n",
       "  </tbody>\n",
       "</table>\n",
       "<p>1319 rows × 11 columns</p>\n",
       "</div>"
      ],
      "text/plain": [
       "      reports       age  income     share  expenditure  owner  selfemp  \\\n",
       "1           0  37.66667  4.5200  0.033270   124.983300      1        0   \n",
       "2           0  33.25000  2.4200  0.005217     9.854167      0        0   \n",
       "3           0  33.66667  4.5000  0.004156    15.000000      1        0   \n",
       "4           0  30.50000  2.5400  0.065214   137.869200      0        0   \n",
       "5           0  32.16667  9.7867  0.067051   546.503300      1        0   \n",
       "...       ...       ...     ...       ...          ...    ...      ...   \n",
       "1315        0  33.58333  4.5660  0.002146     7.333333      1        0   \n",
       "1316        5  23.91667  3.1920  0.000376     0.000000      0        0   \n",
       "1317        0  40.58333  4.6000  0.026513   101.298300      1        0   \n",
       "1318        0  32.83333  3.7000  0.008999    26.996670      0        1   \n",
       "1319        0  48.25000  3.7000  0.111619   344.157500      1        0   \n",
       "\n",
       "      dependents  months  majorcards  active  \n",
       "1              3      54           1      12  \n",
       "2              3      34           1      13  \n",
       "3              4      58           1       5  \n",
       "4              0      25           1       7  \n",
       "5              2      64           1       5  \n",
       "...          ...     ...         ...     ...  \n",
       "1315           0      94           1      19  \n",
       "1316           3      12           1       5  \n",
       "1317           2       1           1       2  \n",
       "1318           0      60           1       7  \n",
       "1319           2       2           1       0  \n",
       "\n",
       "[1319 rows x 11 columns]"
      ]
     },
     "execution_count": 82,
     "metadata": {},
     "output_type": "execute_result"
    }
   ],
   "source": [
    "credit[credit.columns[1:]]"
   ]
  },
  {
   "cell_type": "code",
   "execution_count": 83,
   "metadata": {},
   "outputs": [],
   "source": [
    "credit_scaled = scale.fit_transform(credit[credit.columns[1:]])"
   ]
  },
  {
   "cell_type": "code",
   "execution_count": 84,
   "metadata": {},
   "outputs": [],
   "source": [
    "credit_scaled = pd.DataFrame(credit_scaled, columns=['reports','age','income','share','expenditure',\n",
    "                                                    'owner','selfemp','dependents','months','majorcards','active'])"
   ]
  },
  {
   "cell_type": "code",
   "execution_count": 85,
   "metadata": {},
   "outputs": [
    {
     "data": {
      "text/html": [
       "<div>\n",
       "<style scoped>\n",
       "    .dataframe tbody tr th:only-of-type {\n",
       "        vertical-align: middle;\n",
       "    }\n",
       "\n",
       "    .dataframe tbody tr th {\n",
       "        vertical-align: top;\n",
       "    }\n",
       "\n",
       "    .dataframe thead th {\n",
       "        text-align: right;\n",
       "    }\n",
       "</style>\n",
       "<table border=\"1\" class=\"dataframe\">\n",
       "  <thead>\n",
       "    <tr style=\"text-align: right;\">\n",
       "      <th></th>\n",
       "      <th>reports</th>\n",
       "      <th>age</th>\n",
       "      <th>income</th>\n",
       "      <th>share</th>\n",
       "      <th>expenditure</th>\n",
       "      <th>owner</th>\n",
       "      <th>selfemp</th>\n",
       "      <th>dependents</th>\n",
       "      <th>months</th>\n",
       "      <th>majorcards</th>\n",
       "      <th>active</th>\n",
       "    </tr>\n",
       "  </thead>\n",
       "  <tbody>\n",
       "    <tr>\n",
       "      <td>0</td>\n",
       "      <td>-0.339397</td>\n",
       "      <td>0.439254</td>\n",
       "      <td>0.681894</td>\n",
       "      <td>-0.374787</td>\n",
       "      <td>-0.220766</td>\n",
       "      <td>1.127042</td>\n",
       "      <td>-0.272221</td>\n",
       "      <td>1.608362</td>\n",
       "      <td>-0.019135</td>\n",
       "      <td>0.472824</td>\n",
       "      <td>0.793701</td>\n",
       "    </tr>\n",
       "    <tr>\n",
       "      <td>1</td>\n",
       "      <td>-0.339397</td>\n",
       "      <td>0.003639</td>\n",
       "      <td>-0.558317</td>\n",
       "      <td>-0.671269</td>\n",
       "      <td>-0.643854</td>\n",
       "      <td>-0.887278</td>\n",
       "      <td>-0.272221</td>\n",
       "      <td>1.608362</td>\n",
       "      <td>-0.321037</td>\n",
       "      <td>0.472824</td>\n",
       "      <td>0.952345</td>\n",
       "    </tr>\n",
       "    <tr>\n",
       "      <td>2</td>\n",
       "      <td>-0.339397</td>\n",
       "      <td>0.044735</td>\n",
       "      <td>0.670083</td>\n",
       "      <td>-0.682486</td>\n",
       "      <td>-0.624944</td>\n",
       "      <td>1.127042</td>\n",
       "      <td>-0.272221</td>\n",
       "      <td>2.410112</td>\n",
       "      <td>0.041245</td>\n",
       "      <td>0.472824</td>\n",
       "      <td>-0.316807</td>\n",
       "    </tr>\n",
       "    <tr>\n",
       "      <td>3</td>\n",
       "      <td>-0.339397</td>\n",
       "      <td>-0.267592</td>\n",
       "      <td>-0.487448</td>\n",
       "      <td>-0.037185</td>\n",
       "      <td>-0.173411</td>\n",
       "      <td>-0.887278</td>\n",
       "      <td>-0.272221</td>\n",
       "      <td>-0.796887</td>\n",
       "      <td>-0.456893</td>\n",
       "      <td>0.472824</td>\n",
       "      <td>0.000481</td>\n",
       "    </tr>\n",
       "    <tr>\n",
       "      <td>4</td>\n",
       "      <td>-0.339397</td>\n",
       "      <td>-0.103209</td>\n",
       "      <td>3.792286</td>\n",
       "      <td>-0.017772</td>\n",
       "      <td>1.328281</td>\n",
       "      <td>1.127042</td>\n",
       "      <td>-0.272221</td>\n",
       "      <td>0.806613</td>\n",
       "      <td>0.131816</td>\n",
       "      <td>0.472824</td>\n",
       "      <td>-0.316807</td>\n",
       "    </tr>\n",
       "    <tr>\n",
       "      <td>...</td>\n",
       "      <td>...</td>\n",
       "      <td>...</td>\n",
       "      <td>...</td>\n",
       "      <td>...</td>\n",
       "      <td>...</td>\n",
       "      <td>...</td>\n",
       "      <td>...</td>\n",
       "      <td>...</td>\n",
       "      <td>...</td>\n",
       "      <td>...</td>\n",
       "      <td>...</td>\n",
       "    </tr>\n",
       "    <tr>\n",
       "      <td>1314</td>\n",
       "      <td>-0.339397</td>\n",
       "      <td>0.036515</td>\n",
       "      <td>0.709061</td>\n",
       "      <td>-0.703721</td>\n",
       "      <td>-0.653118</td>\n",
       "      <td>1.127042</td>\n",
       "      <td>-0.272221</td>\n",
       "      <td>-0.796887</td>\n",
       "      <td>0.584669</td>\n",
       "      <td>0.472824</td>\n",
       "      <td>1.904209</td>\n",
       "    </tr>\n",
       "    <tr>\n",
       "      <td>1315</td>\n",
       "      <td>3.378746</td>\n",
       "      <td>-0.916904</td>\n",
       "      <td>-0.102392</td>\n",
       "      <td>-0.722431</td>\n",
       "      <td>-0.680068</td>\n",
       "      <td>-0.887278</td>\n",
       "      <td>-0.272221</td>\n",
       "      <td>1.608362</td>\n",
       "      <td>-0.653130</td>\n",
       "      <td>0.472824</td>\n",
       "      <td>-0.316807</td>\n",
       "    </tr>\n",
       "    <tr>\n",
       "      <td>1316</td>\n",
       "      <td>-0.339397</td>\n",
       "      <td>0.726923</td>\n",
       "      <td>0.729140</td>\n",
       "      <td>-0.446203</td>\n",
       "      <td>-0.307806</td>\n",
       "      <td>1.127042</td>\n",
       "      <td>-0.272221</td>\n",
       "      <td>0.806613</td>\n",
       "      <td>-0.819176</td>\n",
       "      <td>0.472824</td>\n",
       "      <td>-0.792739</td>\n",
       "    </tr>\n",
       "    <tr>\n",
       "      <td>1317</td>\n",
       "      <td>-0.339397</td>\n",
       "      <td>-0.037457</td>\n",
       "      <td>0.197621</td>\n",
       "      <td>-0.631298</td>\n",
       "      <td>-0.580857</td>\n",
       "      <td>-0.887278</td>\n",
       "      <td>3.673487</td>\n",
       "      <td>-0.796887</td>\n",
       "      <td>0.071436</td>\n",
       "      <td>0.472824</td>\n",
       "      <td>0.000481</td>\n",
       "    </tr>\n",
       "    <tr>\n",
       "      <td>1318</td>\n",
       "      <td>-0.339397</td>\n",
       "      <td>1.483084</td>\n",
       "      <td>0.197621</td>\n",
       "      <td>0.453251</td>\n",
       "      <td>0.584679</td>\n",
       "      <td>1.127042</td>\n",
       "      <td>-0.272221</td>\n",
       "      <td>0.806613</td>\n",
       "      <td>-0.804081</td>\n",
       "      <td>0.472824</td>\n",
       "      <td>-1.110027</td>\n",
       "    </tr>\n",
       "  </tbody>\n",
       "</table>\n",
       "<p>1319 rows × 11 columns</p>\n",
       "</div>"
      ],
      "text/plain": [
       "       reports       age    income     share  expenditure     owner   selfemp  \\\n",
       "0    -0.339397  0.439254  0.681894 -0.374787    -0.220766  1.127042 -0.272221   \n",
       "1    -0.339397  0.003639 -0.558317 -0.671269    -0.643854 -0.887278 -0.272221   \n",
       "2    -0.339397  0.044735  0.670083 -0.682486    -0.624944  1.127042 -0.272221   \n",
       "3    -0.339397 -0.267592 -0.487448 -0.037185    -0.173411 -0.887278 -0.272221   \n",
       "4    -0.339397 -0.103209  3.792286 -0.017772     1.328281  1.127042 -0.272221   \n",
       "...        ...       ...       ...       ...          ...       ...       ...   \n",
       "1314 -0.339397  0.036515  0.709061 -0.703721    -0.653118  1.127042 -0.272221   \n",
       "1315  3.378746 -0.916904 -0.102392 -0.722431    -0.680068 -0.887278 -0.272221   \n",
       "1316 -0.339397  0.726923  0.729140 -0.446203    -0.307806  1.127042 -0.272221   \n",
       "1317 -0.339397 -0.037457  0.197621 -0.631298    -0.580857 -0.887278  3.673487   \n",
       "1318 -0.339397  1.483084  0.197621  0.453251     0.584679  1.127042 -0.272221   \n",
       "\n",
       "      dependents    months  majorcards    active  \n",
       "0       1.608362 -0.019135    0.472824  0.793701  \n",
       "1       1.608362 -0.321037    0.472824  0.952345  \n",
       "2       2.410112  0.041245    0.472824 -0.316807  \n",
       "3      -0.796887 -0.456893    0.472824  0.000481  \n",
       "4       0.806613  0.131816    0.472824 -0.316807  \n",
       "...          ...       ...         ...       ...  \n",
       "1314   -0.796887  0.584669    0.472824  1.904209  \n",
       "1315    1.608362 -0.653130    0.472824 -0.316807  \n",
       "1316    0.806613 -0.819176    0.472824 -0.792739  \n",
       "1317   -0.796887  0.071436    0.472824  0.000481  \n",
       "1318    0.806613 -0.804081    0.472824 -1.110027  \n",
       "\n",
       "[1319 rows x 11 columns]"
      ]
     },
     "execution_count": 85,
     "metadata": {},
     "output_type": "execute_result"
    }
   ],
   "source": [
    "credit_scaled\n"
   ]
  },
  {
   "cell_type": "code",
   "execution_count": 86,
   "metadata": {},
   "outputs": [],
   "source": [
    "credit_scaled['card'] = credit['card']"
   ]
  },
  {
   "cell_type": "code",
   "execution_count": 87,
   "metadata": {},
   "outputs": [
    {
     "data": {
      "text/html": [
       "<div>\n",
       "<style scoped>\n",
       "    .dataframe tbody tr th:only-of-type {\n",
       "        vertical-align: middle;\n",
       "    }\n",
       "\n",
       "    .dataframe tbody tr th {\n",
       "        vertical-align: top;\n",
       "    }\n",
       "\n",
       "    .dataframe thead th {\n",
       "        text-align: right;\n",
       "    }\n",
       "</style>\n",
       "<table border=\"1\" class=\"dataframe\">\n",
       "  <thead>\n",
       "    <tr style=\"text-align: right;\">\n",
       "      <th></th>\n",
       "      <th>reports</th>\n",
       "      <th>age</th>\n",
       "      <th>income</th>\n",
       "      <th>share</th>\n",
       "      <th>expenditure</th>\n",
       "      <th>owner</th>\n",
       "      <th>selfemp</th>\n",
       "      <th>dependents</th>\n",
       "      <th>months</th>\n",
       "      <th>majorcards</th>\n",
       "      <th>active</th>\n",
       "      <th>card</th>\n",
       "    </tr>\n",
       "  </thead>\n",
       "  <tbody>\n",
       "    <tr>\n",
       "      <td>0</td>\n",
       "      <td>-0.339397</td>\n",
       "      <td>0.439254</td>\n",
       "      <td>0.681894</td>\n",
       "      <td>-0.374787</td>\n",
       "      <td>-0.220766</td>\n",
       "      <td>1.127042</td>\n",
       "      <td>-0.272221</td>\n",
       "      <td>1.608362</td>\n",
       "      <td>-0.019135</td>\n",
       "      <td>0.472824</td>\n",
       "      <td>0.793701</td>\n",
       "      <td>NaN</td>\n",
       "    </tr>\n",
       "    <tr>\n",
       "      <td>1</td>\n",
       "      <td>-0.339397</td>\n",
       "      <td>0.003639</td>\n",
       "      <td>-0.558317</td>\n",
       "      <td>-0.671269</td>\n",
       "      <td>-0.643854</td>\n",
       "      <td>-0.887278</td>\n",
       "      <td>-0.272221</td>\n",
       "      <td>1.608362</td>\n",
       "      <td>-0.321037</td>\n",
       "      <td>0.472824</td>\n",
       "      <td>0.952345</td>\n",
       "      <td>1.0</td>\n",
       "    </tr>\n",
       "    <tr>\n",
       "      <td>2</td>\n",
       "      <td>-0.339397</td>\n",
       "      <td>0.044735</td>\n",
       "      <td>0.670083</td>\n",
       "      <td>-0.682486</td>\n",
       "      <td>-0.624944</td>\n",
       "      <td>1.127042</td>\n",
       "      <td>-0.272221</td>\n",
       "      <td>2.410112</td>\n",
       "      <td>0.041245</td>\n",
       "      <td>0.472824</td>\n",
       "      <td>-0.316807</td>\n",
       "      <td>1.0</td>\n",
       "    </tr>\n",
       "    <tr>\n",
       "      <td>3</td>\n",
       "      <td>-0.339397</td>\n",
       "      <td>-0.267592</td>\n",
       "      <td>-0.487448</td>\n",
       "      <td>-0.037185</td>\n",
       "      <td>-0.173411</td>\n",
       "      <td>-0.887278</td>\n",
       "      <td>-0.272221</td>\n",
       "      <td>-0.796887</td>\n",
       "      <td>-0.456893</td>\n",
       "      <td>0.472824</td>\n",
       "      <td>0.000481</td>\n",
       "      <td>1.0</td>\n",
       "    </tr>\n",
       "    <tr>\n",
       "      <td>4</td>\n",
       "      <td>-0.339397</td>\n",
       "      <td>-0.103209</td>\n",
       "      <td>3.792286</td>\n",
       "      <td>-0.017772</td>\n",
       "      <td>1.328281</td>\n",
       "      <td>1.127042</td>\n",
       "      <td>-0.272221</td>\n",
       "      <td>0.806613</td>\n",
       "      <td>0.131816</td>\n",
       "      <td>0.472824</td>\n",
       "      <td>-0.316807</td>\n",
       "      <td>1.0</td>\n",
       "    </tr>\n",
       "  </tbody>\n",
       "</table>\n",
       "</div>"
      ],
      "text/plain": [
       "    reports       age    income     share  expenditure     owner   selfemp  \\\n",
       "0 -0.339397  0.439254  0.681894 -0.374787    -0.220766  1.127042 -0.272221   \n",
       "1 -0.339397  0.003639 -0.558317 -0.671269    -0.643854 -0.887278 -0.272221   \n",
       "2 -0.339397  0.044735  0.670083 -0.682486    -0.624944  1.127042 -0.272221   \n",
       "3 -0.339397 -0.267592 -0.487448 -0.037185    -0.173411 -0.887278 -0.272221   \n",
       "4 -0.339397 -0.103209  3.792286 -0.017772     1.328281  1.127042 -0.272221   \n",
       "\n",
       "   dependents    months  majorcards    active  card  \n",
       "0    1.608362 -0.019135    0.472824  0.793701   NaN  \n",
       "1    1.608362 -0.321037    0.472824  0.952345   1.0  \n",
       "2    2.410112  0.041245    0.472824 -0.316807   1.0  \n",
       "3   -0.796887 -0.456893    0.472824  0.000481   1.0  \n",
       "4    0.806613  0.131816    0.472824 -0.316807   1.0  "
      ]
     },
     "execution_count": 87,
     "metadata": {},
     "output_type": "execute_result"
    }
   ],
   "source": [
    "credit_scaled.head()"
   ]
  },
  {
   "cell_type": "code",
   "execution_count": 106,
   "metadata": {},
   "outputs": [
    {
     "data": {
      "text/plain": [
       "<matplotlib.axes._subplots.AxesSubplot at 0x1b0dc9c0c08>"
      ]
     },
     "execution_count": 106,
     "metadata": {},
     "output_type": "execute_result"
    },
    {
     "data": {
      "image/png": "[encoded data removed]",
      "text/plain": [
       "<Figure size 432x288 with 1 Axes>"
      ]
     },
     "metadata": {},
     "output_type": "display_data"
    }
   ],
   "source": [
    "sns.heatmap(credit_scaled.isna(),cbar=False, yticklabels=False, cmap=\"viridis\")"
   ]
  },
  {
   "cell_type": "code",
   "execution_count": 89,
   "metadata": {},
   "outputs": [
    {
     "data": {
      "text/plain": [
       "array([1, 0], dtype=int64)"
      ]
     },
     "execution_count": 89,
     "metadata": {},
     "output_type": "execute_result"
    }
   ],
   "source": [
    "credit['card'].unique()"
   ]
  },
  {
   "cell_type": "code",
   "execution_count": 107,
   "metadata": {},
   "outputs": [],
   "source": [
    "credit_scaled.dropna(inplace=True)"
   ]
  },
  {
   "cell_type": "code",
   "execution_count": 111,
   "metadata": {},
   "outputs": [],
   "source": [
    "from sklearn.model_selection import train_test_split\n",
    "from sklearn.linear_model import LogisticRegression"
   ]
  },
  {
   "cell_type": "code",
   "execution_count": 112,
   "metadata": {},
   "outputs": [
    {
     "data": {
      "text/html": [
       "<div>\n",
       "<style scoped>\n",
       "    .dataframe tbody tr th:only-of-type {\n",
       "        vertical-align: middle;\n",
       "    }\n",
       "\n",
       "    .dataframe tbody tr th {\n",
       "        vertical-align: top;\n",
       "    }\n",
       "\n",
       "    .dataframe thead th {\n",
       "        text-align: right;\n",
       "    }\n",
       "</style>\n",
       "<table border=\"1\" class=\"dataframe\">\n",
       "  <thead>\n",
       "    <tr style=\"text-align: right;\">\n",
       "      <th></th>\n",
       "      <th>reports</th>\n",
       "      <th>age</th>\n",
       "      <th>income</th>\n",
       "      <th>share</th>\n",
       "      <th>expenditure</th>\n",
       "      <th>owner</th>\n",
       "      <th>selfemp</th>\n",
       "      <th>dependents</th>\n",
       "      <th>months</th>\n",
       "      <th>majorcards</th>\n",
       "      <th>active</th>\n",
       "      <th>card</th>\n",
       "    </tr>\n",
       "  </thead>\n",
       "  <tbody>\n",
       "    <tr>\n",
       "      <td>1</td>\n",
       "      <td>-0.339397</td>\n",
       "      <td>0.003639</td>\n",
       "      <td>-0.558317</td>\n",
       "      <td>-0.671269</td>\n",
       "      <td>-0.643854</td>\n",
       "      <td>-0.887278</td>\n",
       "      <td>-0.272221</td>\n",
       "      <td>1.608362</td>\n",
       "      <td>-0.321037</td>\n",
       "      <td>0.472824</td>\n",
       "      <td>0.952345</td>\n",
       "      <td>1.0</td>\n",
       "    </tr>\n",
       "    <tr>\n",
       "      <td>2</td>\n",
       "      <td>-0.339397</td>\n",
       "      <td>0.044735</td>\n",
       "      <td>0.670083</td>\n",
       "      <td>-0.682486</td>\n",
       "      <td>-0.624944</td>\n",
       "      <td>1.127042</td>\n",
       "      <td>-0.272221</td>\n",
       "      <td>2.410112</td>\n",
       "      <td>0.041245</td>\n",
       "      <td>0.472824</td>\n",
       "      <td>-0.316807</td>\n",
       "      <td>1.0</td>\n",
       "    </tr>\n",
       "    <tr>\n",
       "      <td>3</td>\n",
       "      <td>-0.339397</td>\n",
       "      <td>-0.267592</td>\n",
       "      <td>-0.487448</td>\n",
       "      <td>-0.037185</td>\n",
       "      <td>-0.173411</td>\n",
       "      <td>-0.887278</td>\n",
       "      <td>-0.272221</td>\n",
       "      <td>-0.796887</td>\n",
       "      <td>-0.456893</td>\n",
       "      <td>0.472824</td>\n",
       "      <td>0.000481</td>\n",
       "      <td>1.0</td>\n",
       "    </tr>\n",
       "    <tr>\n",
       "      <td>4</td>\n",
       "      <td>-0.339397</td>\n",
       "      <td>-0.103209</td>\n",
       "      <td>3.792286</td>\n",
       "      <td>-0.017772</td>\n",
       "      <td>1.328281</td>\n",
       "      <td>1.127042</td>\n",
       "      <td>-0.272221</td>\n",
       "      <td>0.806613</td>\n",
       "      <td>0.131816</td>\n",
       "      <td>0.472824</td>\n",
       "      <td>-0.316807</td>\n",
       "      <td>1.0</td>\n",
       "    </tr>\n",
       "    <tr>\n",
       "      <td>5</td>\n",
       "      <td>-0.339397</td>\n",
       "      <td>-0.982658</td>\n",
       "      <td>-0.511071</td>\n",
       "      <td>-0.256752</td>\n",
       "      <td>-0.341988</td>\n",
       "      <td>-0.887278</td>\n",
       "      <td>-0.272221</td>\n",
       "      <td>-0.796887</td>\n",
       "      <td>-0.019135</td>\n",
       "      <td>0.472824</td>\n",
       "      <td>-0.951383</td>\n",
       "      <td>1.0</td>\n",
       "    </tr>\n",
       "  </tbody>\n",
       "</table>\n",
       "</div>"
      ],
      "text/plain": [
       "    reports       age    income     share  expenditure     owner   selfemp  \\\n",
       "1 -0.339397  0.003639 -0.558317 -0.671269    -0.643854 -0.887278 -0.272221   \n",
       "2 -0.339397  0.044735  0.670083 -0.682486    -0.624944  1.127042 -0.272221   \n",
       "3 -0.339397 -0.267592 -0.487448 -0.037185    -0.173411 -0.887278 -0.272221   \n",
       "4 -0.339397 -0.103209  3.792286 -0.017772     1.328281  1.127042 -0.272221   \n",
       "5 -0.339397 -0.982658 -0.511071 -0.256752    -0.341988 -0.887278 -0.272221   \n",
       "\n",
       "   dependents    months  majorcards    active  card  \n",
       "1    1.608362 -0.321037    0.472824  0.952345   1.0  \n",
       "2    2.410112  0.041245    0.472824 -0.316807   1.0  \n",
       "3   -0.796887 -0.456893    0.472824  0.000481   1.0  \n",
       "4    0.806613  0.131816    0.472824 -0.316807   1.0  \n",
       "5   -0.796887 -0.019135    0.472824 -0.951383   1.0  "
      ]
     },
     "execution_count": 112,
     "metadata": {},
     "output_type": "execute_result"
    }
   ],
   "source": [
    "credit_scaled.head()"
   ]
  },
  {
   "cell_type": "code",
   "execution_count": 115,
   "metadata": {},
   "outputs": [],
   "source": [
    "X = credit_scaled.drop(\"card\", axis =1)\n",
    "y = credit_scaled['card']"
   ]
  },
  {
   "cell_type": "code",
   "execution_count": 126,
   "metadata": {},
   "outputs": [],
   "source": [
    "X_train, X_test, y_train, y_test = train_test_split(X, y, test_size=0.33, random_state=42)"
   ]
  },
  {
   "cell_type": "code",
   "execution_count": 118,
   "metadata": {},
   "outputs": [],
   "source": [
    "logmodel = LogisticRegression()\n"
   ]
  },
  {
   "cell_type": "code",
   "execution_count": 127,
   "metadata": {},
   "outputs": [
    {
     "name": "stderr",
     "output_type": "stream",
     "text": [
      "C:\\Users\\User\\Anaconda3\\lib\\site-packages\\sklearn\\linear_model\\logistic.py:432: FutureWarning: Default solver will be changed to 'lbfgs' in 0.22. Specify a solver to silence this warning.\n",
      "  FutureWarning)\n"
     ]
    },
    {
     "data": {
      "text/plain": [
       "LogisticRegression(C=1.0, class_weight=None, dual=False, fit_intercept=True,\n",
       "                   intercept_scaling=1, l1_ratio=None, max_iter=100,\n",
       "                   multi_class='warn', n_jobs=None, penalty='l2',\n",
       "                   random_state=None, solver='warn', tol=0.0001, verbose=0,\n",
       "                   warm_start=False)"
      ]
     },
     "execution_count": 127,
     "metadata": {},
     "output_type": "execute_result"
    }
   ],
   "source": [
    "logmodel.fit(X_train, y_train)\n"
   ]
  },
  {
   "cell_type": "code",
   "execution_count": 128,
   "metadata": {},
   "outputs": [],
   "source": [
    "card_predictions = logmodel.predict(X_test)"
   ]
  },
  {
   "cell_type": "code",
   "execution_count": 121,
   "metadata": {},
   "outputs": [],
   "source": [
    "from sklearn.metrics import confusion_matrix, classification_report"
   ]
  },
  {
   "cell_type": "code",
   "execution_count": 130,
   "metadata": {},
   "outputs": [
    {
     "name": "stdout",
     "output_type": "stream",
     "text": [
      "[[  0  97]\n",
      " [  0 338]]\n"
     ]
    }
   ],
   "source": [
    "print(confusion_matrix(y_test, card_predictions))"
   ]
  },
  {
   "cell_type": "code",
   "execution_count": 131,
   "metadata": {},
   "outputs": [
    {
     "name": "stdout",
     "output_type": "stream",
     "text": [
      "              precision    recall  f1-score   support\n",
      "\n",
      "         0.0       0.00      0.00      0.00        97\n",
      "         1.0       0.78      1.00      0.87       338\n",
      "\n",
      "    accuracy                           0.78       435\n",
      "   macro avg       0.39      0.50      0.44       435\n",
      "weighted avg       0.60      0.78      0.68       435\n",
      "\n"
     ]
    },
    {
     "name": "stderr",
     "output_type": "stream",
     "text": [
      "C:\\Users\\User\\Anaconda3\\lib\\site-packages\\sklearn\\metrics\\classification.py:1437: UndefinedMetricWarning: Precision and F-score are ill-defined and being set to 0.0 in labels with no predicted samples.\n",
      "  'precision', 'predicted', average, warn_for)\n"
     ]
    }
   ],
   "source": [
    "print(classification_report(y_test, card_predictions))"
   ]
  },
  {
   "cell_type": "code",
   "execution_count": 129,
   "metadata": {},
   "outputs": [
    {
     "data": {
      "text/plain": [
       "array([1., 1., 1., 1., 1., 1., 1., 1., 1., 1., 1., 1., 1., 1., 1., 1., 1.,\n",
       "       1., 1., 1., 1., 1., 1., 1., 1., 1., 1., 1., 1., 1., 1., 1., 1., 1.,\n",
       "       1., 1., 1., 1., 1., 1., 1., 1., 1., 1., 1., 1., 1., 1., 1., 1., 1.,\n",
       "       1., 1., 1., 1., 1., 1., 1., 1., 1., 1., 1., 1., 1., 1., 1., 1., 1.,\n",
       "       1., 1., 1., 1., 1., 1., 1., 1., 1., 1., 1., 1., 1., 1., 1., 1., 1.,\n",
       "       1., 1., 1., 1., 1., 1., 1., 1., 1., 1., 1., 1., 1., 1., 1., 1., 1.,\n",
       "       1., 1., 1., 1., 1., 1., 1., 1., 1., 1., 1., 1., 1., 1., 1., 1., 1.,\n",
       "       1., 1., 1., 1., 1., 1., 1., 1., 1., 1., 1., 1., 1., 1., 1., 1., 1.,\n",
       "       1., 1., 1., 1., 1., 1., 1., 1., 1., 1., 1., 1., 1., 1., 1., 1., 1.,\n",
       "       1., 1., 1., 1., 1., 1., 1., 1., 1., 1., 1., 1., 1., 1., 1., 1., 1.,\n",
       "       1., 1., 1., 1., 1., 1., 1., 1., 1., 1., 1., 1., 1., 1., 1., 1., 1.,\n",
       "       1., 1., 1., 1., 1., 1., 1., 1., 1., 1., 1., 1., 1., 1., 1., 1., 1.,\n",
       "       1., 1., 1., 1., 1., 1., 1., 1., 1., 1., 1., 1., 1., 1., 1., 1., 1.,\n",
       "       1., 1., 1., 1., 1., 1., 1., 1., 1., 1., 1., 1., 1., 1., 1., 1., 1.,\n",
       "       1., 1., 1., 1., 1., 1., 1., 1., 1., 1., 1., 1., 1., 1., 1., 1., 1.,\n",
       "       1., 1., 1., 1., 1., 1., 1., 1., 1., 1., 1., 1., 1., 1., 1., 1., 1.,\n",
       "       1., 1., 1., 1., 1., 1., 1., 1., 1., 1., 1., 1., 1., 1., 1., 1., 1.,\n",
       "       1., 1., 1., 1., 1., 1., 1., 1., 1., 1., 1., 1., 1., 1., 1., 1., 1.,\n",
       "       1., 1., 1., 1., 1., 1., 1., 1., 1., 1., 1., 1., 1., 1., 1., 1., 1.,\n",
       "       1., 1., 1., 1., 1., 1., 1., 1., 1., 1., 1., 1., 1., 1., 1., 1., 1.,\n",
       "       1., 1., 1., 1., 1., 1., 1., 1., 1., 1., 1., 1., 1., 1., 1., 1., 1.,\n",
       "       1., 1., 1., 1., 1., 1., 1., 1., 1., 1., 1., 1., 1., 1., 1., 1., 1.,\n",
       "       1., 1., 1., 1., 1., 1., 1., 1., 1., 1., 1., 1., 1., 1., 1., 1., 1.,\n",
       "       1., 1., 1., 1., 1., 1., 1., 1., 1., 1., 1., 1., 1., 1., 1., 1., 1.,\n",
       "       1., 1., 1., 1., 1., 1., 1., 1., 1., 1., 1., 1., 1., 1., 1., 1., 1.,\n",
       "       1., 1., 1., 1., 1., 1., 1., 1., 1., 1.])"
      ]
     },
     "execution_count": 129,
     "metadata": {},
     "output_type": "execute_result"
    }
   ],
   "source": [
    "card_predictions\n"
   ]
  },
  {
   "cell_type": "code",
   "execution_count": null,
   "metadata": {},
   "outputs": [],
   "source": []
  }
 ],
 "metadata": {
  "kernelspec": {
   "display_name": "Python 3",
   "language": "python",
   "name": "python3"
  },
  "language_info": {
   "codemirror_mode": {
    "name": "ipython",
    "version": 3
   },
   "file_extension": ".py",
   "mimetype": "text/x-python",
   "name": "python",
   "nbconvert_exporter": "python",
   "pygments_lexer": "ipython3",
   "version": "3.7.4"
  }
 },
 "nbformat": 4,
 "nbformat_minor": 4
}
